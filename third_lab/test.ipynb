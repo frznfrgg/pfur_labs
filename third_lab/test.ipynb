{
 "cells": [
  {
   "cell_type": "code",
   "execution_count": 1,
   "metadata": {},
   "outputs": [
    {
     "name": "stdout",
     "output_type": "stream",
     "text": [
      "4.2\n",
      "Name: Leha -- ID: 123 -- Grades: [8, 8, 0, 0, 5, 5, 3, 5, 3, 5]\n"
     ]
    }
   ],
   "source": [
    "from first import Student\n",
    "\n",
    "student = Student(\"Leha\", 123, [8, 8, 0, 0, 5, 5, 3, 5, 3])\n",
    "student.add_grade(5)\n",
    "print(student.get_average())\n",
    "student.display_info()"
   ]
  },
  {
   "cell_type": "code",
   "execution_count": 2,
   "metadata": {},
   "outputs": [],
   "source": [
    "from second import Teacher\n",
    "\n",
    "student = Student(\"Leha\", 123, [8, 8, 0, 0, 5, 5, 3, 5, 3])\n",
    "teacher = Teacher(name=\"James\", age=\"31\", subject=\"physics\", students=[student])"
   ]
  },
  {
   "cell_type": "code",
   "execution_count": 3,
   "metadata": {},
   "outputs": [
    {
     "name": "stdout",
     "output_type": "stream",
     "text": [
      "Тип фигуры: Rectangle\n",
      "Площадь: 50.00\n",
      "Периметр: 30.00\n",
      "\n",
      "Тип фигуры: Circle\n",
      "Площадь: 153.94\n",
      "Периметр: 43.98\n",
      "\n",
      "Тип фигуры: Triangle\n",
      "Площадь: 6.00\n",
      "Периметр: 12.00\n",
      "\n"
     ]
    }
   ],
   "source": [
    "from third import Circle, Rectangle, Triangle, print_shape_info\n",
    "\n",
    "rectangle = Rectangle(5, 10)\n",
    "circle = Circle(7)\n",
    "triangle = Triangle(3, 4, 5)\n",
    "print_shape_info(rectangle)\n",
    "print_shape_info(circle)\n",
    "print_shape_info(triangle)"
   ]
  },
  {
   "cell_type": "code",
   "execution_count": 6,
   "metadata": {},
   "outputs": [
    {
     "name": "stdout",
     "output_type": "stream",
     "text": [
      "Curr balance: 1300\n",
      "Transaction history:\n",
      "\t Dep: 500\n",
      "\t Withdrawl: 200\n"
     ]
    }
   ],
   "source": [
    "from fourth import BankAccount\n",
    "\n",
    "account = BankAccount(1000)\n",
    "account.deposit(500)\n",
    "account.withdraw(200)\n",
    "\n",
    "print(f\"Curr balance: {account.balance}\")\n",
    "print(\"Transaction history:\")\n",
    "for t in account.get_transactions():\n",
    "    print(\"\\t\", t)"
   ]
  },
  {
   "cell_type": "code",
   "execution_count": null,
   "metadata": {},
   "outputs": [],
   "source": []
  }
 ],
 "metadata": {
  "kernelspec": {
   "display_name": "UNI",
   "language": "python",
   "name": "python3"
  },
  "language_info": {
   "codemirror_mode": {
    "name": "ipython",
    "version": 3
   },
   "file_extension": ".py",
   "mimetype": "text/x-python",
   "name": "python",
   "nbconvert_exporter": "python",
   "pygments_lexer": "ipython3",
   "version": "3.10.16"
  }
 },
 "nbformat": 4,
 "nbformat_minor": 2
}
