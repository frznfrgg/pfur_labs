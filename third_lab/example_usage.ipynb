{
 "cells": [
  {
   "cell_type": "code",
   "execution_count": 1,
   "metadata": {},
   "outputs": [
    {
     "name": "stdout",
     "output_type": "stream",
     "text": [
      "4.2\n",
      "Name: Leha -- ID: 123 -- Grades: [8, 8, 0, 0, 5, 5, 3, 5, 3, 5]\n"
     ]
    }
   ],
   "source": [
    "from a_task import Student\n",
    "\n",
    "student = Student(\"Leha\", 123, [8, 8, 0, 0, 5, 5, 3, 5, 3])\n",
    "student.add_grade(5)\n",
    "print(student.get_average())\n",
    "student.display_info()"
   ]
  },
  {
   "cell_type": "code",
   "execution_count": 2,
   "metadata": {},
   "outputs": [
    {
     "name": "stdout",
     "output_type": "stream",
     "text": [
      "Name: Leha -- ID: 123 -- Grades: [8, 8, 0, 0, 5, 5, 3, 5, 3]\n",
      "None\n"
     ]
    }
   ],
   "source": [
    "from b_task import Teacher\n",
    "\n",
    "student = Student(\"Leha\", 123, [8, 8, 0, 0, 5, 5, 3, 5, 3])\n",
    "teacher = Teacher(name=\"James\", age=\"31\", subject=\"physics\", students=[student])\n",
    "teacher.list_students()"
   ]
  },
  {
   "cell_type": "code",
   "execution_count": 3,
   "metadata": {},
   "outputs": [
    {
     "name": "stdout",
     "output_type": "stream",
     "text": [
      "Тип фигуры: Rectangle\n",
      "Площадь: 50.00\n",
      "Периметр: 30.00\n",
      "\n",
      "Тип фигуры: Circle\n",
      "Площадь: 153.94\n",
      "Периметр: 43.98\n",
      "\n",
      "Тип фигуры: Triangle\n",
      "Площадь: 6.00\n",
      "Периметр: 12.00\n",
      "\n"
     ]
    }
   ],
   "source": [
    "from c_task import Circle, Rectangle, Triangle, print_shape_info\n",
    "\n",
    "rectangle = Rectangle(5, 10)\n",
    "circle = Circle(7)\n",
    "triangle = Triangle(3, 4, 5)\n",
    "print_shape_info(rectangle)\n",
    "print_shape_info(circle)\n",
    "print_shape_info(triangle)"
   ]
  },
  {
   "cell_type": "code",
   "execution_count": 4,
   "metadata": {},
   "outputs": [
    {
     "name": "stdout",
     "output_type": "stream",
     "text": [
      "Curr balance: 1300\n",
      "Transaction history:\n",
      "\t Dep: 500\n",
      "\t Withdrawl: 200\n"
     ]
    }
   ],
   "source": [
    "from d_task import BankAccount\n",
    "\n",
    "account = BankAccount(1000)\n",
    "account.deposit(500)\n",
    "account.withdraw(200)\n",
    "\n",
    "print(f\"Curr balance: {account.balance}\")\n",
    "print(\"Transaction history:\")\n",
    "for t in account.get_transactions():\n",
    "    print(\"\\t\", t)"
   ]
  },
  {
   "cell_type": "code",
   "execution_count": 5,
   "metadata": {},
   "outputs": [
    {
     "name": "stdout",
     "output_type": "stream",
     "text": [
      "Temp in celcius: 20\n",
      "Temperature in farenheit: 68.0\n"
     ]
    }
   ],
   "source": [
    "from f_task import Temperature\n",
    "\n",
    "temperature = Temperature(20)\n",
    "print(f\"Temp in celcius: {temperature.celsius}\")\n",
    "print(f\"Temperature in farenheit: {temperature.fahrenheit}\")"
   ]
  },
  {
   "cell_type": "code",
   "execution_count": 6,
   "metadata": {},
   "outputs": [
    {
     "name": "stdout",
     "output_type": "stream",
     "text": [
      "Assistant of teacher Mr. Smith is helping a student Bill.\n",
      "Studnet statistics:\n",
      "Name: Bill -- ID: 1 -- Grades: [5, 5, 2, 3]\n"
     ]
    }
   ],
   "source": [
    "from g_task import Assistant\n",
    "\n",
    "assistant = Assistant(\n",
    "    student_name=\"Bill\",\n",
    "    student_id=1,\n",
    "    student_grades=[5, 5, 2, 3],\n",
    "    teacher_name=\"Mr. Smith\",\n",
    "    teacher_age=52,\n",
    "    teacher_subject=\"Chemistry\",\n",
    ")\n",
    "assistant.help_student()"
   ]
  }
 ],
 "metadata": {
  "kernelspec": {
   "display_name": "UNI",
   "language": "python",
   "name": "python3"
  },
  "language_info": {
   "codemirror_mode": {
    "name": "ipython",
    "version": 3
   },
   "file_extension": ".py",
   "mimetype": "text/x-python",
   "name": "python",
   "nbconvert_exporter": "python",
   "pygments_lexer": "ipython3",
   "version": "3.10.16"
  }
 },
 "nbformat": 4,
 "nbformat_minor": 2
}
