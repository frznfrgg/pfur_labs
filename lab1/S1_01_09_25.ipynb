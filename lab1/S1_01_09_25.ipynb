{
  "cells": [
    {
      "cell_type": "markdown",
      "metadata": {
        "id": "Z5uq17vrqmhX"
      },
      "source": [
        "# Общая информация\n",
        "\n",
        "\n",
        "## Преподаватель\n",
        "**ФИО:** Клюкин Александр Викторович\n",
        "\n",
        "**Email:** kliukin_av@pfur.ru (можно просто найти в почте)\n",
        "\n",
        "\n",
        "---\n",
        "\n",
        "## Литература:\n",
        "\n",
        "\n",
        "- [Документация Python](https://docs.python.org/3/)  \n",
        "- [Алгоритмы и структуры данных (МФТИ)](https://cs.mipt.ru/algo/category/sem_1.html)  \n",
        "- [Яндекс.Учебник: Справочник по алгоритмам](https://education.yandex.ru/handbook/algorithms)  \n",
        "\n",
        "\n"
      ]
    },
    {
      "cell_type": "markdown",
      "metadata": {
        "id": "zQcROoMTyp18"
      },
      "source": [
        "# Задание 1: Colab + git\n",
        "\n",
        "## GitHub\n",
        "- Войдите на [GitHub](https://github.com)  \n",
        "- Создайте репозиторий:  \n",
        "  - **Name**: `lab1-algorithms`  \n",
        "  - **Private**: ✅  \n",
        "  - Нажмите **Create repository**  \n",
        "\n",
        "---\n",
        "\n",
        "## Сохранение работы из Colab в GitHub\n",
        "В Colab:  \n",
        "- `File → Save a copy in GitHub`  \n",
        "- Выберите свой репозиторий `lab1-algorithms`  \n",
        "- Назовите файл `lab1.ipynb`  \n",
        "- Нажмите **OK**  "
      ]
    },
    {
      "cell_type": "markdown",
      "metadata": {
        "id": "PTXbIXZJzQLo"
      },
      "source": [
        "# Задание 2: теория\n",
        "\n"
      ]
    },
    {
      "cell_type": "markdown",
      "metadata": {
        "id": "8e443389"
      },
      "source": [
        "## Основы синтаксиса Python\n",
        "\n",
        "Python известен своим чистым и читабельным синтаксисом. Вот несколько ключевых моментов:\n",
        "\n",
        "1.  **Отступы:** Вместо фигурных скобок или ключевых слов для определения блоков кода (функций, циклов, условных операторов) в Python используются отступы (пробелы или табы). Это одно из самых важных правил. Обычно используются 4 пробела.\n",
        "2.  **Комментарии:** Однострочные комментарии начинаются с символа `#`. Многострочные комментарии можно создавать, заключая текст в тройные кавычки (`'''` или `\"\"\"`).\n",
        "3.  **Переменные:** Переменные объявляются при первом присваивании значения. Не нужно указывать тип данных, Python определяет его автоматически."
      ]
    },
    {
      "cell_type": "code",
      "execution_count": 1,
      "metadata": {
        "colab": {
          "base_uri": "https://localhost:8080/",
          "height": 219
        },
        "id": "fba0399c",
        "outputId": "741c1c27-9894-43f3-8a78-48670f78da5f"
      },
      "outputs": [
        {
          "name": "stdout",
          "output_type": "stream",
          "text": [
            "Хорошо\n"
          ]
        }
      ],
      "source": [
        "score = 90\n",
        "if score > 90:\n",
        "    print(\"Отлично!\")\n",
        "elif score > 70:\n",
        "    print(\"Хорошо\")\n",
        "else:\n",
        "    print(\"Попробуйте еще раз\")"
      ]
    },
    {
      "cell_type": "code",
      "execution_count": null,
      "metadata": {
        "id": "756df07e"
      },
      "outputs": [
        {
          "name": "stdout",
          "output_type": "stream",
          "text": [
            "apple\n",
            "banana\n",
            "cherry\n",
            "0\n",
            "1\n",
            "2\n",
            "3\n",
            "4\n"
          ]
        }
      ],
      "source": [
        "# Цикл for для итерации по последовательности\n",
        "fruits = [\"apple\", \"banana\", \"cherry\"]\n",
        "for fruit in fruits:\n",
        "    print(fruit)\n",
        "\n",
        "# Цикл while\n",
        "count = 0\n",
        "while count < 5:\n",
        "    print(count)\n",
        "    count += 1"
      ]
    },
    {
      "cell_type": "code",
      "execution_count": null,
      "metadata": {
        "id": "1e880ac8"
      },
      "outputs": [
        {
          "name": "stdout",
          "output_type": "stream",
          "text": [
            "Привет, Боб!\n"
          ]
        }
      ],
      "source": [
        "def greet(name):\n",
        "    print(f\"Привет, {name}!\")\n",
        "\n",
        "\n",
        "greet(\"Боб\")"
      ]
    },
    {
      "cell_type": "markdown",
      "metadata": {
        "id": "bcf74724"
      },
      "source": [
        "## Задание по синтаксису (примерно 10 строк кода)\n",
        "\n",
        "Напишите программу, которая:\n",
        "1. Запросит у пользователя ввести его имя.\n",
        "2. Запросит у пользователя ввести его возраст.\n",
        "3. Если возраст больше или равен 18, выведет сообщение \"Привет, [имя]! Ты совершеннолетний.\".\n",
        "4. Если возраст меньше 18, выведет сообщение \"Привет, [имя]! Ты несовершеннолетний.\"."
      ]
    },
    {
      "cell_type": "code",
      "execution_count": null,
      "metadata": {
        "id": "dc75337d"
      },
      "outputs": [
        {
          "name": "stdout",
          "output_type": "stream",
          "text": [
            "Привет, nasfas! Ты несовершеннолетний.\n"
          ]
        }
      ],
      "source": [
        "# Задание по синтаксису\n",
        "\n",
        "# 1. Запросить имя\n",
        "name = input(\"Введите ваше имя: \")\n",
        "\n",
        "# 2. Запросить возраст\n",
        "age_str = input(\"Введите ваш возраст: \")\n",
        "age = int(age_str)  # Преобразуем строку в целое число\n",
        "\n",
        "# 3. Проверить возраст и вывести сообщение\n",
        "if age >= 18:\n",
        "    print(f\"Привет, {name}! Ты совершеннолетний.\")\n",
        "else:\n",
        "    print(f\"Привет, {name}! Ты несовершеннолетний.\")"
      ]
    },
    {
      "cell_type": "markdown",
      "metadata": {
        "id": "ee8b51a5"
      },
      "source": [
        "# Задание 2 сложная задача\n",
        "\n",
        "Напишите программу, которая считывает строку из маленьких латинских букв и определяет, **какая буква встречается чаще всего**.\n",
        "Если несколько букв встречаются одинаково часто — выведите первую по алфавиту.\n",
        "\n",
        "### Пример\n",
        "`Ввод:` abbccc\n",
        "`Вывод:` c\n",
        "\n",
        "### Подсказка\n",
        "- Используйте словарь для подсчёта количества каждой буквы.\n",
        "- Сравнивайте частоты и выбирайте минимальный ключ при равенстве.\n",
        "- Старайтесь уложиться в 10–12 строк кода."
      ]
    },
    {
      "cell_type": "code",
      "execution_count": null,
      "metadata": {
        "id": "96f53500"
      },
      "outputs": [
        {
          "data": {
            "text/plain": [
              "[4]"
            ]
          },
          "execution_count": 17,
          "metadata": {},
          "output_type": "execute_result"
        }
      ],
      "source": [
        "# Введите ваш код здесь\n",
        "s = input()\n",
        "counts = {}\n",
        "for l in s:\n",
        "    if l in counts.keys():\n",
        "        counts[l] += 1\n",
        "    else:\n",
        "        counts[l] = 1\n",
        "\n",
        "[\n",
        "    counts[i]\n",
        "    for i in sorted(list(counts.keys()))\n",
        "    if counts[i] == max(list(counts.values()))\n",
        "]"
      ]
    },
    {
      "cell_type": "markdown",
      "metadata": {
        "id": "f72ab688"
      },
      "source": [
        "# Задание 3 очень сложная задача\n",
        "\n",
        "На вход подаётся список положительных чисел. Нужно определить, **сколько существует непрерывных подпоследовательностей, сумма которых равна заданному числу `S`**.\n",
        "\n",
        "### Пример\n",
        "`Список:` [1, 2, 1, 3, 2]\n",
        "`S = 3`\n",
        "`Вывод:` 3\n",
        "\n",
        "Объяснение: подпоследовательности с суммой 3 → [1,2], [2,1], [3].\n",
        "\n",
        "### Подсказка\n",
        "- Используйте две вложенные петли или технику скользящего окна.\n",
        "- Используйте только базовый синтаксис: циклы, условия, списки, переменные."
      ]
    },
    {
      "cell_type": "code",
      "execution_count": 23,
      "metadata": {
        "id": "b6b2c632"
      },
      "outputs": [
        {
          "name": "stdout",
          "output_type": "stream",
          "text": [
            "3\n"
          ]
        }
      ],
      "source": [
        "# Введите ваш код здесь\n",
        "s = input().split()\n",
        "l = [int(i) for i in s]\n",
        "cnt = 0\n",
        "for a in range(len(l) - 1):\n",
        "    for b in range(a, len(l) + 1):\n",
        "        if sum(l[a:b]) == 3:\n",
        "            cnt += 1\n",
        "print(cnt)"
      ]
    },
    {
      "cell_type": "code",
      "execution_count": null,
      "metadata": {},
      "outputs": [],
      "source": []
    }
  ],
  "metadata": {
    "colab": {
      "provenance": []
    },
    "kernelspec": {
      "display_name": "base",
      "language": "python",
      "name": "python3"
    },
    "language_info": {
      "codemirror_mode": {
        "name": "ipython",
        "version": 3
      },
      "file_extension": ".py",
      "mimetype": "text/x-python",
      "name": "python",
      "nbconvert_exporter": "python",
      "pygments_lexer": "ipython3",
      "version": "3.11.7"
    }
  },
  "nbformat": 4,
  "nbformat_minor": 0
}
