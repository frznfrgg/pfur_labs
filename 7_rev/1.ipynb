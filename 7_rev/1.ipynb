{
 "cells": [
  {
   "cell_type": "code",
   "execution_count": 1,
   "id": "53923989",
   "metadata": {},
   "outputs": [
    {
     "name": "stdout",
     "output_type": "stream",
     "text": [
      "Привет, King! В этом году тебе исполняется 135 лет.\n"
     ]
    }
   ],
   "source": [
    "# 1\n",
    "name = input(\"Введите имя: \")\n",
    "year = int(input(\"Введите год рождения: \"))\n",
    "age = 2025 - year\n",
    "print(f\"Привет, {name}! В этом году тебе исполняется {age} лет.\")"
   ]
  },
  {
   "cell_type": "code",
   "execution_count": 2,
   "id": "7755aa44",
   "metadata": {},
   "outputs": [
    {
     "name": "stdout",
     "output_type": "stream",
     "text": [
      "Число не кратно одновременно 5 и 10\n"
     ]
    }
   ],
   "source": [
    "# 2\n",
    "num = int(input(\"Введите число: \"))\n",
    "if num % 10 == 0:\n",
    "    print(\"Число кратно и 5, и 10\")\n",
    "else:\n",
    "    print(\"Число не кратно одновременно 5 и 10\")"
   ]
  },
  {
   "cell_type": "code",
   "execution_count": 7,
   "id": "87b69bce",
   "metadata": {},
   "outputs": [
    {
     "name": "stdout",
     "output_type": "stream",
     "text": [
      "Минимальное число: 1\n"
     ]
    }
   ],
   "source": [
    "# 3\n",
    "a = int(input(\"Введите первое число: \"))\n",
    "b = int(input(\"Введите второе число: \"))\n",
    "c = int(input(\"Введите третье число: \"))\n",
    "minimum = a\n",
    "if b < minimum:\n",
    "    minimum = b\n",
    "if c < minimum:\n",
    "    minimum = c\n",
    "print(\"Минимальное число:\", minimum)"
   ]
  },
  {
   "cell_type": "code",
   "execution_count": 6,
   "id": "05b3ac24",
   "metadata": {},
   "outputs": [
    {
     "name": "stdout",
     "output_type": "stream",
     "text": [
      "Чётные числа: [2, 4, 6, 8, 10]\n"
     ]
    }
   ],
   "source": [
    "# 4\n",
    "start = int(input(\"Введите начало диапазона: \"))\n",
    "end = int(input(\"Введите конец диапазона: \"))\n",
    "evens = [i for i in range(start, end + 1) if i % 2 == 0]\n",
    "if evens:\n",
    "    print(\"Чётные числа:\", evens)\n",
    "else:\n",
    "    print(\"В этом диапазоне нет чётных чисел.\")"
   ]
  },
  {
   "cell_type": "code",
   "execution_count": 8,
   "id": "8d0e9c09",
   "metadata": {},
   "outputs": [
    {
     "name": "stdout",
     "output_type": "stream",
     "text": [
      "Количество элементов: 9\n",
      "Последний элемент: 11\n",
      "Обратный порядок: [11, 0, -8, 17, 4, 0, 23, -5, 12]\n",
      "Нет\n"
     ]
    }
   ],
   "source": [
    "# 5\n",
    "numbers = [12, -5, 23, 0, 4, 17, -8, 0, 11]\n",
    "print(\"Количество элементов:\", len(numbers))\n",
    "print(\"Последний элемент:\", numbers[-1])\n",
    "print(\"Обратный порядок:\", numbers[::-1])\n",
    "print(\"Да\" if 5 in numbers and 17 in numbers else \"Нет\")"
   ]
  },
  {
   "cell_type": "code",
   "execution_count": null,
   "id": "9bb23e16",
   "metadata": {},
   "outputs": [
    {
     "name": "stdout",
     "output_type": "stream",
     "text": [
      "Имя: Иван\n",
      "Курс: Математика\n",
      "Средний балл: 4.2\n",
      "Обновлённый словарь: {'name': 'Иван', 'age': 20, 'course': 'Математика', 'grades': [4, 5, 3, 5, 4, 5]}\n"
     ]
    }
   ],
   "source": [
    "# 6\n",
    "student = {\"name\": \"Иван\", \"age\": 20, \"course\": \"Математика\", \"grades\": [4, 5, 3, 5, 4]}\n",
    "print(\"Имя:\", student[\"name\"])\n",
    "print(\"Курс:\", student[\"course\"])\n",
    "avg = sum(student[\"grades\"]) / len(student[\"grades\"])\n",
    "print(\"Средний балл:\", avg)\n",
    "student[\"grades\"].append(5)\n",
    "print(\"Обновлённый словарь:\", student)"
   ]
  },
  {
   "cell_type": "code",
   "execution_count": null,
   "id": "6d422f75",
   "metadata": {},
   "outputs": [
    {
     "name": "stdout",
     "output_type": "stream",
     "text": [
      "Площадь круга радиусом 5: 78.53981633974483\n",
      "Число 10 положительное? True\n",
      "Число -3 положительное? False\n"
     ]
    }
   ],
   "source": [
    "# 7\n",
    "import math\n",
    "\n",
    "\n",
    "def calculate_circle_area(radius):\n",
    "    return math.pi * radius**2\n",
    "\n",
    "\n",
    "def is_positive(number):\n",
    "    return number > 0\n",
    "\n",
    "\n",
    "print(\"Площадь круга радиусом 5:\", calculate_circle_area(5))\n",
    "print(\"Число 10 положительное?\", is_positive(10))\n",
    "print(\"Число -3 положительное?\", is_positive(-3))"
   ]
  },
  {
   "cell_type": "code",
   "execution_count": null,
   "id": "7b83670e",
   "metadata": {},
   "outputs": [
    {
     "name": "stdout",
     "output_type": "stream",
     "text": [
      "Результат: defbc\n"
     ]
    }
   ],
   "source": [
    "# 8\n",
    "def shift_text(text):\n",
    "    result = \"\"\n",
    "    for ch in text:\n",
    "        if \"a\" <= ch <= \"z\":\n",
    "            result += chr((ord(ch) - ord(\"a\") + 3) % 26 + ord(\"a\"))\n",
    "        elif \"A\" <= ch <= \"Z\":\n",
    "            result += chr((ord(ch) - ord(\"A\") + 3) % 26 + ord(\"A\"))\n",
    "        else:\n",
    "            result += ch\n",
    "    return result\n",
    "\n",
    "\n",
    "s = input(\"Введите строку: \")\n",
    "print(\"Результат:\", shift_text(s))"
   ]
  },
  {
   "cell_type": "code",
   "execution_count": 11,
   "id": "dfda7a50",
   "metadata": {},
   "outputs": [
    {
     "name": "stdout",
     "output_type": "stream",
     "text": [
      "Исходный список: [-9, -6, 0, -9, 1, 4, 4, 6, 10, 0, -2, 2, 10, 4, -4]\n",
      "Положительные числа: [1, 4, 4, 6, 10, 2, 10, 4]\n",
      "Квадраты чисел: [81, 36, 0, 81, 1, 16, 16, 36, 100, 0, 4, 4, 100, 16, 16]\n"
     ]
    }
   ],
   "source": [
    "# 9\n",
    "import random\n",
    "\n",
    "numbers = [random.randint(-10, 10) for _ in range(15)]\n",
    "positives = [n for n in numbers if n > 0]\n",
    "squares = [n**2 for n in numbers]\n",
    "\n",
    "print(\"Исходный список:\", numbers)\n",
    "print(\"Положительные числа:\", positives)\n",
    "print(\"Квадраты чисел:\", squares)"
   ]
  },
  {
   "cell_type": "code",
   "execution_count": 15,
   "id": "75ab2044",
   "metadata": {},
   "outputs": [
    {
     "name": "stdout",
     "output_type": "stream",
     "text": [
      "Ошибка: введите число или 'стоп'.\n",
      "Число: 123.0\n",
      "Число: 34.1231\n",
      "Число: 123.0\n",
      "Ошибка: введите число или 'стоп'.\n"
     ]
    }
   ],
   "source": [
    "# 10\n",
    "while True:\n",
    "    user_input = input(\"Введите число или 'стоп': \")\n",
    "    if user_input.lower() == \"стоп\":\n",
    "        break\n",
    "    try:\n",
    "        num = float(user_input)\n",
    "        print(\"Число:\", num)\n",
    "    except ValueError:\n",
    "        print(\"Ошибка: введите число или 'стоп'.\")\n"
   ]
  },
  {
   "cell_type": "code",
   "execution_count": null,
   "id": "9d7f74ba",
   "metadata": {},
   "outputs": [],
   "source": []
  }
 ],
 "metadata": {
  "kernelspec": {
   "display_name": "UNI",
   "language": "python",
   "name": "python3"
  },
  "language_info": {
   "codemirror_mode": {
    "name": "ipython",
    "version": 3
   },
   "file_extension": ".py",
   "mimetype": "text/x-python",
   "name": "python",
   "nbconvert_exporter": "python",
   "pygments_lexer": "ipython3",
   "version": "3.10.16"
  }
 },
 "nbformat": 4,
 "nbformat_minor": 5
}
